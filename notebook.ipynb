{
 "cells": [
  {
   "cell_type": "code",
   "execution_count": 1,
   "id": "c3b11744",
   "metadata": {},
   "outputs": [
    {
     "name": "stdout",
     "output_type": "stream",
     "text": [
      "Defaulting to user installation because normal site-packages is not writeable\n",
      "Requirement already satisfied: ipympl in /Users/pipermorris/Library/Python/3.9/lib/python/site-packages (0.9.7)\n",
      "Requirement already satisfied: ipython<10 in /Users/pipermorris/Library/Python/3.9/lib/python/site-packages (from ipympl) (8.18.1)\n",
      "Requirement already satisfied: ipywidgets<9,>=7.6.0 in /Users/pipermorris/Library/Python/3.9/lib/python/site-packages (from ipympl) (8.1.5)\n",
      "Requirement already satisfied: matplotlib<4,>=3.5.0 in /Users/pipermorris/Library/Python/3.9/lib/python/site-packages (from ipympl) (3.8.1)\n",
      "Requirement already satisfied: numpy in /Users/pipermorris/Library/Python/3.9/lib/python/site-packages (from ipympl) (1.26.4)\n",
      "Requirement already satisfied: pillow in /Users/pipermorris/Library/Python/3.9/lib/python/site-packages (from ipympl) (11.1.0)\n",
      "Requirement already satisfied: traitlets<6 in /Users/pipermorris/Library/Python/3.9/lib/python/site-packages (from ipympl) (5.14.3)\n",
      "Requirement already satisfied: decorator in /Users/pipermorris/Library/Python/3.9/lib/python/site-packages (from ipython<10->ipympl) (5.1.1)\n",
      "Requirement already satisfied: jedi>=0.16 in /Users/pipermorris/Library/Python/3.9/lib/python/site-packages (from ipython<10->ipympl) (0.19.2)\n",
      "Requirement already satisfied: matplotlib-inline in /Users/pipermorris/Library/Python/3.9/lib/python/site-packages (from ipython<10->ipympl) (0.1.7)\n",
      "Requirement already satisfied: prompt-toolkit<3.1.0,>=3.0.41 in /Users/pipermorris/Library/Python/3.9/lib/python/site-packages (from ipython<10->ipympl) (3.0.50)\n",
      "Requirement already satisfied: pygments>=2.4.0 in /Users/pipermorris/Library/Python/3.9/lib/python/site-packages (from ipython<10->ipympl) (2.19.1)\n",
      "Requirement already satisfied: stack-data in /Users/pipermorris/Library/Python/3.9/lib/python/site-packages (from ipython<10->ipympl) (0.6.3)\n",
      "Requirement already satisfied: typing-extensions in /Users/pipermorris/Library/Python/3.9/lib/python/site-packages (from ipython<10->ipympl) (4.12.2)\n",
      "Requirement already satisfied: exceptiongroup in /Users/pipermorris/Library/Python/3.9/lib/python/site-packages (from ipython<10->ipympl) (1.2.2)\n",
      "Requirement already satisfied: pexpect>4.3 in /Users/pipermorris/Library/Python/3.9/lib/python/site-packages (from ipython<10->ipympl) (4.9.0)\n",
      "Requirement already satisfied: comm>=0.1.3 in /Users/pipermorris/Library/Python/3.9/lib/python/site-packages (from ipywidgets<9,>=7.6.0->ipympl) (0.2.2)\n",
      "Requirement already satisfied: widgetsnbextension~=4.0.12 in /Users/pipermorris/Library/Python/3.9/lib/python/site-packages (from ipywidgets<9,>=7.6.0->ipympl) (4.0.13)\n",
      "Requirement already satisfied: jupyterlab-widgets~=3.0.12 in /Users/pipermorris/Library/Python/3.9/lib/python/site-packages (from ipywidgets<9,>=7.6.0->ipympl) (3.0.13)\n",
      "Requirement already satisfied: contourpy>=1.0.1 in /Users/pipermorris/Library/Python/3.9/lib/python/site-packages (from matplotlib<4,>=3.5.0->ipympl) (1.3.0)\n",
      "Requirement already satisfied: cycler>=0.10 in /Users/pipermorris/Library/Python/3.9/lib/python/site-packages (from matplotlib<4,>=3.5.0->ipympl) (0.12.1)\n",
      "Requirement already satisfied: fonttools>=4.22.0 in /Users/pipermorris/Library/Python/3.9/lib/python/site-packages (from matplotlib<4,>=3.5.0->ipympl) (4.55.6)\n",
      "Requirement already satisfied: kiwisolver>=1.3.1 in /Users/pipermorris/Library/Python/3.9/lib/python/site-packages (from matplotlib<4,>=3.5.0->ipympl) (1.4.7)\n",
      "Requirement already satisfied: packaging>=20.0 in /Users/pipermorris/Library/Python/3.9/lib/python/site-packages (from matplotlib<4,>=3.5.0->ipympl) (24.2)\n",
      "Requirement already satisfied: pyparsing>=2.3.1 in /Users/pipermorris/Library/Python/3.9/lib/python/site-packages (from matplotlib<4,>=3.5.0->ipympl) (3.2.1)\n",
      "Requirement already satisfied: python-dateutil>=2.7 in /Users/pipermorris/Library/Python/3.9/lib/python/site-packages (from matplotlib<4,>=3.5.0->ipympl) (2.9.0.post0)\n",
      "Requirement already satisfied: importlib-resources>=3.2.0 in /Users/pipermorris/Library/Python/3.9/lib/python/site-packages (from matplotlib<4,>=3.5.0->ipympl) (6.5.2)\n",
      "Requirement already satisfied: zipp>=3.1.0 in /Users/pipermorris/Library/Python/3.9/lib/python/site-packages (from importlib-resources>=3.2.0->matplotlib<4,>=3.5.0->ipympl) (3.21.0)\n",
      "Requirement already satisfied: parso<0.9.0,>=0.8.4 in /Users/pipermorris/Library/Python/3.9/lib/python/site-packages (from jedi>=0.16->ipython<10->ipympl) (0.8.4)\n",
      "Requirement already satisfied: ptyprocess>=0.5 in /Users/pipermorris/Library/Python/3.9/lib/python/site-packages (from pexpect>4.3->ipython<10->ipympl) (0.7.0)\n",
      "Requirement already satisfied: wcwidth in /Users/pipermorris/Library/Python/3.9/lib/python/site-packages (from prompt-toolkit<3.1.0,>=3.0.41->ipython<10->ipympl) (0.2.13)\n",
      "Requirement already satisfied: six>=1.5 in /Library/Developer/CommandLineTools/Library/Frameworks/Python3.framework/Versions/3.9/lib/python3.9/site-packages (from python-dateutil>=2.7->matplotlib<4,>=3.5.0->ipympl) (1.15.0)\n",
      "Requirement already satisfied: executing>=1.2.0 in /Users/pipermorris/Library/Python/3.9/lib/python/site-packages (from stack-data->ipython<10->ipympl) (2.2.0)\n",
      "Requirement already satisfied: asttokens>=2.1.0 in /Users/pipermorris/Library/Python/3.9/lib/python/site-packages (from stack-data->ipython<10->ipympl) (3.0.0)\n",
      "Requirement already satisfied: pure-eval in /Users/pipermorris/Library/Python/3.9/lib/python/site-packages (from stack-data->ipython<10->ipympl) (0.2.3)\n",
      "\n",
      "\u001b[1m[\u001b[0m\u001b[34;49mnotice\u001b[0m\u001b[1;39;49m]\u001b[0m\u001b[39;49m A new release of pip is available: \u001b[0m\u001b[31;49m25.0\u001b[0m\u001b[39;49m -> \u001b[0m\u001b[32;49m25.2\u001b[0m\n",
      "\u001b[1m[\u001b[0m\u001b[34;49mnotice\u001b[0m\u001b[1;39;49m]\u001b[0m\u001b[39;49m To update, run: \u001b[0m\u001b[32;49m/Library/Developer/CommandLineTools/usr/bin/python3 -m pip install --upgrade pip\u001b[0m\n",
      "Defaulting to user installation because normal site-packages is not writeable\n",
      "Requirement already satisfied: interpolation in /Users/pipermorris/Library/Python/3.9/lib/python/site-packages (2.2.7)\n",
      "Requirement already satisfied: numba>=0.59.1 in /Users/pipermorris/Library/Python/3.9/lib/python/site-packages (from interpolation) (0.60.0)\n",
      "Requirement already satisfied: scipy<2.0,>=1.10 in /Users/pipermorris/Library/Python/3.9/lib/python/site-packages (from interpolation) (1.13.1)\n",
      "Requirement already satisfied: llvmlite<0.44,>=0.43.0dev0 in /Users/pipermorris/Library/Python/3.9/lib/python/site-packages (from numba>=0.59.1->interpolation) (0.43.0)\n",
      "Requirement already satisfied: numpy<2.1,>=1.22 in /Users/pipermorris/Library/Python/3.9/lib/python/site-packages (from numba>=0.59.1->interpolation) (1.26.4)\n",
      "\n",
      "\u001b[1m[\u001b[0m\u001b[34;49mnotice\u001b[0m\u001b[1;39;49m]\u001b[0m\u001b[39;49m A new release of pip is available: \u001b[0m\u001b[31;49m25.0\u001b[0m\u001b[39;49m -> \u001b[0m\u001b[32;49m25.2\u001b[0m\n",
      "\u001b[1m[\u001b[0m\u001b[34;49mnotice\u001b[0m\u001b[1;39;49m]\u001b[0m\u001b[39;49m To update, run: \u001b[0m\u001b[32;49m/Library/Developer/CommandLineTools/usr/bin/python3 -m pip install --upgrade pip\u001b[0m\n"
     ]
    }
   ],
   "source": [
    "!pip install ipympl\n",
    "!pip install interpolation\n",
    "%matplotlib notebook"
   ]
  },
  {
   "cell_type": "code",
   "execution_count": null,
   "id": "02444cb6",
   "metadata": {},
   "outputs": [
    {
     "name": "stderr",
     "output_type": "stream",
     "text": [
      "/Users/pipermorris/Library/Python/3.9/lib/python/site-packages/pycbc/types/array.py:36: UserWarning: Wswiglal-redir-stdio:\n",
      "\n",
      "SWIGLAL standard output/error redirection is enabled in IPython.\n",
      "This may lead to performance penalties. To disable locally, use:\n",
      "\n",
      "with lal.no_swig_redirect_standard_output_error():\n",
      "    ...\n",
      "\n",
      "To disable globally, use:\n",
      "\n",
      "lal.swig_redirect_standard_output_error(False)\n",
      "\n",
      "Note however that this will likely lead to error messages from\n",
      "LAL functions being either misdirected or lost when called from\n",
      "Jupyter notebooks.\n",
      "\n",
      "To suppress this warning, use:\n",
      "\n",
      "import warnings\n",
      "warnings.filterwarnings(\"ignore\", \"Wswiglal-redir-stdio\")\n",
      "import lal\n",
      "\n",
      "  import lal as _lal\n"
     ]
    }
   ],
   "source": [
    "%run main.py"
   ]
  },
  {
   "cell_type": "code",
   "execution_count": null,
   "id": "163ce5c4",
   "metadata": {},
   "outputs": [],
   "source": []
  }
 ],
 "metadata": {
  "kernelspec": {
   "display_name": "Python 3",
   "language": "python",
   "name": "python3"
  },
  "language_info": {
   "codemirror_mode": {
    "name": "ipython",
    "version": 3
   },
   "file_extension": ".py",
   "mimetype": "text/x-python",
   "name": "python",
   "nbconvert_exporter": "python",
   "pygments_lexer": "ipython3",
   "version": "3.9.6"
  }
 },
 "nbformat": 4,
 "nbformat_minor": 5
}
