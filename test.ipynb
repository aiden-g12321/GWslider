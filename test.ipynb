{
 "cells": [
  {
   "cell_type": "code",
   "execution_count": 1,
   "metadata": {},
   "outputs": [
    {
     "name": "stderr",
     "output_type": "stream",
     "text": [
      "/Users/pipermorris/Library/Python/3.9/lib/python/site-packages/pycbc/types/array.py:36: UserWarning: Wswiglal-redir-stdio:\n",
      "\n",
      "SWIGLAL standard output/error redirection is enabled in IPython.\n",
      "This may lead to performance penalties. To disable locally, use:\n",
      "\n",
      "with lal.no_swig_redirect_standard_output_error():\n",
      "    ...\n",
      "\n",
      "To disable globally, use:\n",
      "\n",
      "lal.swig_redirect_standard_output_error(False)\n",
      "\n",
      "Note however that this will likely lead to error messages from\n",
      "LAL functions being either misdirected or lost when called from\n",
      "Jupyter notebooks.\n",
      "\n",
      "To suppress this warning, use:\n",
      "\n",
      "import warnings\n",
      "warnings.filterwarnings(\"ignore\", \"Wswiglal-redir-stdio\")\n",
      "import lal\n",
      "\n",
      "  import lal as _lal\n"
     ]
    },
    {
     "name": "stdout",
     "output_type": "stream",
     "text": [
      "times_full length: (16383,)\n",
      "times_full range: -0.32 3.6797558593749997\n",
      "window_min, window_max: -0.32 0.32\n",
      "times after cut length: (2622,)\n",
      "[0.00000000e+00 2.50015260e-01 5.00030519e-01 ... 2.04737496e+03\n",
      " 2.04762498e+03 2.04787499e+03]\n",
      "frequency spacing: 0.2500152597204419\n",
      "sampling rate: 4095.7499847402796\n",
      "Number of time samples: 2622\n",
      "8192\n",
      "[ 0.          0.25001526  0.50003052 ... -0.75004578 -0.50003052\n",
      " -0.25001526]\n"
     ]
    }
   ],
   "source": [
    "#check frequencies of the tempalate\n",
    "\n",
    "import matplotlib.pyplot as plt \n",
    "\n",
    "from constants import *\n",
    "from template import *\n",
    "from GW_class import *\n",
    "\n",
    "\n",
    "print(\"times_full length:\", waveform.times_full.shape)\n",
    "print(\"times_full range:\", waveform.times_full.min(), waveform.times_full.max())\n",
    "print(\"window_min, window_max:\", c.window_min, c.window_max)\n",
    "print(\"times after cut length:\", waveform.times.shape)\n",
    "\n",
    "\n",
    "#print template frequencies \n",
    "print(waveform.freqs)\n",
    "#print frequency spacing\n",
    "print('frequency spacing:', (waveform.df))\n",
    "print('sampling rate:' ,(waveform.sampling_freq))\n",
    "print('Number of time samples:', waveform.Nt)\n",
    "\n",
    "\n",
    "\n",
    "#create time domain waveform\n",
    "FD_template= waveform.get_FD_waveform(params_inj, phic=3.035)\n",
    "TD_template= waveform.iFFT_waveform(FD_template)\n",
    "\n",
    "#go back to FD to check freqs\n",
    "TD_to_FD = np.fft.fft(TD_template)\n",
    "freqs_from_TD = np.fft.fftfreq(len(TD_template), d=1/waveform.sampling_freq)\n",
    "\n",
    "print(FD_template.size)\n",
    "\n",
    "print(freqs_from_TD)\n",
    "\n",
    "#plt.plot(waveform.times, TD_template)\n",
    "\n"
   ]
  },
  {
   "cell_type": "code",
   "execution_count": 2,
   "metadata": {},
   "outputs": [
    {
     "data": {
      "image/png": "[encoded data removed]",
      "text/plain": [
       "<Figure size 640x480 with 1 Axes>"
      ]
     },
     "metadata": {},
     "output_type": "display_data"
    }
   ],
   "source": [
    "import matplotlib.pyplot as plt\n",
    "\n",
    "max_index = np.argmax(waveform.tanh_window)\n",
    "xmax = waveform.freqs[max_index]\n",
    "ymax = waveform.tanh_window[max_index]\n",
    "\n",
    "plt.annotate(f'Max: ({xmax}, {ymax})', xy=(xmax, ymax), xytext=(xmax + 0.5, ymax + 1),\n",
    "                 arrowprops=dict(facecolor='black', shrink=0.05))\n",
    "\n",
    "plt.plot(waveform.freqs, waveform.tanh_window)\n",
    "plt.xlabel(\"Frequency [Hz]\")\n",
    "plt.ylabel(\"Window value\")\n",
    "plt.title(\"Tanh window vs frequency\")\n",
    "plt.show()"
   ]
  },
  {
   "cell_type": "code",
   "execution_count": 3,
   "metadata": {},
   "outputs": [
    {
     "name": "stdout",
     "output_type": "stream",
     "text": [
      "number of samples: 131072\n",
      "sampling rate 4096\n",
      "frequency spacing: 0.03125\n",
      "GW150914 frequencies: [0.00000000e+00 3.12500000e-02 6.25000000e-02 ... 2.04793750e+03\n",
      " 2.04796875e+03 2.04800000e+03]\n",
      "frequencies greater than 16: [  16.        16.03125   16.0625  ... 2047.9375  2047.96875 2048.     ]\n"
     ]
    }
   ],
   "source": [
    "#check frequencies of GW150914\n",
    "\n",
    "from get_data import *\n",
    "from numpy.fft import rfftfreq, rfft\n",
    "\n",
    "#choose detector \n",
    "det= 'H1'\n",
    "#get time domain info from dictionary\n",
    "dt = GW150914_data['dt']\n",
    "fs = GW150914_data['fs']\n",
    "strain = GW150914_data[det]['strain']\n",
    "N = len(strain)\n",
    "\n",
    "print('number of samples:', N)\n",
    "print('sampling rate', fs)\n",
    "\n",
    "#check frequency spacing\n",
    "print('frequency spacing:', fs/N)\n",
    "#fft to get freqs \n",
    "freqs_150914= rfftfreq(N,dt)\n",
    "print(f'GW150914 frequencies:', freqs_150914)\n",
    "\n",
    "#frequences greater than 16\n",
    "freqs_150914_filter= freqs_150914[freqs_150914 >= 16]\n",
    "print(f'frequencies greater than 16:', freqs_150914_filter)\n",
    "\n"
   ]
  },
  {
   "cell_type": "code",
   "execution_count": 13,
   "metadata": {},
   "outputs": [
    {
     "name": "stdout",
     "output_type": "stream",
     "text": [
      "FD_template length: 8192\n",
      "data length: 131072\n",
      "(8192,)\n",
      "(8192,)\n",
      "(8192,)\n",
      "(8192,)\n",
      "8192\n",
      "(16382,)\n",
      "(16383,)\n",
      "(16383,)\n"
     ]
    }
   ],
   "source": [
    "#double check with matched filter frequencies\n",
    "\n",
    "from matched_filter import *\n",
    "from constants import signal_ref_params\n",
    "\n",
    "#choose detector\n",
    "det= 'H1'\n",
    "data=  GW150914.dictionary[det]['strain']\n",
    "dwindow= tukey(data.size, alpha= 1./4)\n",
    "data_fft = np.fft.fft(data*dwindow) / fs\n",
    "\n",
    "print(f'FD_template length:', len(FD_template))\n",
    "print(f\"data length:\", len(data_fft))\n",
    "\n",
    "# #check GW150914\n",
    "# SNRmax, timemax, d_eff, horizon, phase, offset= matched_filter(\n",
    "#     get_template(signal_ref_params['GW150914'][1], GW150914.dictionary),  \n",
    "#     GW150914.dictionary[det]['strain'],   \n",
    "#     GW150914.dictionary['time'],   \n",
    "#     GW150914.dictionary['large_data_psds'][det],      \n",
    "#     GW150914.dictionary['fs']        )\n",
    "\n",
    "template= get_template(signal_ref_params['GW150914'][1], GW150914.dictionary)\n",
    "fft_template = np.fft.irfft(template)\n",
    "\n",
    "\n",
    "calculate_matched_filter(get_template(signal_ref_params['GW150914'][1], GW150914.dictionary), GW150914.dictionary, det = 'H1')\n",
    "\n",
    "\n",
    "template_wbp, strain_whitenbp, times, SNRmax, amp, phase = wrapped_matched_filter(signal_ref_params['GW150914'][1], GW150914, det = 'H1')\n",
    "\n",
    "\n",
    "\n",
    "print(len(FD_template))\n",
    "\n",
    "print('fft template shaoe:', fft_template.shape)\n",
    "print(template_wbp.shape)\n",
    "print(strain_whitenbp.shape)\n",
    "print(times.shape)\n",
    "\n"
   ]
  },
  {
   "cell_type": "code",
   "execution_count": 5,
   "metadata": {},
   "outputs": [
    {
     "data": {
      "text/plain": [
       "array([0.00000000e+00, 2.50015260e-01, 5.00030519e-01, ...,\n",
       "       2.04737496e+03, 2.04762498e+03, 2.04787499e+03])"
      ]
     },
     "execution_count": 5,
     "metadata": {},
     "output_type": "execute_result"
    }
   ],
   "source": [
    "c.freqs"
   ]
  },
  {
   "cell_type": "code",
   "execution_count": null,
   "metadata": {},
   "outputs": [],
   "source": []
  }
 ],
 "metadata": {
  "kernelspec": {
   "display_name": "Python 3",
   "language": "python",
   "name": "python3"
  },
  "language_info": {
   "codemirror_mode": {
    "name": "ipython",
    "version": 3
   },
   "file_extension": ".py",
   "mimetype": "text/x-python",
   "name": "python",
   "nbconvert_exporter": "python",
   "pygments_lexer": "ipython3",
   "version": "3.9.6"
  }
 },
 "nbformat": 4,
 "nbformat_minor": 2
}
