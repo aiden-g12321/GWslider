{
 "cells": [
  {
   "cell_type": "code",
   "execution_count": 6,
   "metadata": {},
   "outputs": [
    {
     "name": "stdout",
     "output_type": "stream",
     "text": [
      "[  16.0625   16.125    16.1875 ... 1023.875  1023.9375 1024.    ]\n"
     ]
    }
   ],
   "source": [
    "#check frequencies of the tempalate\n",
    "\n",
    "from template import *\n",
    "from GW_class import *\n",
    "\n",
    "print(waveform.freqs)"
   ]
  },
  {
   "cell_type": "code",
   "execution_count": 28,
   "metadata": {},
   "outputs": [
    {
     "name": "stdout",
     "output_type": "stream",
     "text": [
      "[   0.          585.14285714 1170.28571429 1755.42857143]\n"
     ]
    }
   ],
   "source": [
    "#check frequencies of GW150914\n",
    "\n",
    "from get_data import *\n",
    "from numpy.fft import rfftfreq, rfft\n",
    "\n",
    "#get time domain info from dictionary\n",
    "dt = GW150914_data['dt']\n",
    "N = len(GW150914_data)\n",
    "\n",
    "#fft to get freqs \n",
    "freqs_150914= rfftfreq(N,dt)\n",
    "print(freqs_150914)"
   ]
  },
  {
   "cell_type": "code",
   "execution_count": 27,
   "metadata": {},
   "outputs": [],
   "source": [
    "#double check with matched filter frequencies\n",
    "\n",
    "from matched_filter import *\n",
    "from constants import signal_ref_params\n",
    "\n",
    "#choose detector\n",
    "det= 'H1'\n",
    "\n",
    "#check GW150914\n",
    "\n",
    "datafreq_150914 = matched_filter(\n",
    "    get_template(signal_ref_params['GW150914'][1], GW150914.dictionary),  \n",
    "    GW150914.dictionary[det]['strain'],   \n",
    "    GW150914.dictionary['time'],   \n",
    "    GW150914.dictionary['large_data_psds'][det],      \n",
    "    GW150914.dictionary['fs']        )\n"
   ]
  }
 ],
 "metadata": {
  "kernelspec": {
   "display_name": "Python 3",
   "language": "python",
   "name": "python3"
  },
  "language_info": {
   "codemirror_mode": {
    "name": "ipython",
    "version": 3
   },
   "file_extension": ".py",
   "mimetype": "text/x-python",
   "name": "python",
   "nbconvert_exporter": "python",
   "pygments_lexer": "ipython3",
   "version": "3.9.6"
  }
 },
 "nbformat": 4,
 "nbformat_minor": 2
}
